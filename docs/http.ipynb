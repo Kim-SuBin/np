{
 "cells": [
  {
   "cell_type": "markdown",
   "metadata": {},
   "source": [
    "## Fetching an object from web server using socket\n",
    "### Non-persistent HTTP case\n",
    "HTTP client는 request message에 ```Connection: close``` header를 삽입하여 HTTP server(web server의 일부분)에게 response message 후에 connection을 close해 줄 것을 요구하는 GET request message를 만든다. "
   ]
  },
  {
   "cell_type": "code",
   "execution_count": 8,
   "metadata": {},
   "outputs": [
    {
     "name": "stdout",
     "output_type": "stream",
     "text": [
      "b'GET /test/index.html HTTP/1.1\\r\\nHost: mclab.hufs.ac.kr\\r\\nConnection: close\\r\\n\\r\\n'\n"
     ]
    }
   ],
   "source": [
    "from urllib.request import urlparse\n",
    "import socket\n",
    "\n",
    "template = \"GET {path} HTTP/1.1\\r\\nHost: {host}\\r\\nConnection: close\\r\\n\\r\\n\"\n",
    "url = \"http://mclab.hufs.ac.kr/test/index.html\"\n",
    "r = urlparse(url)\n",
    "host, port = r.hostname, r.port if r.port else 80\n",
    "path = r.path + '?' + r.query if r.query else r.path\n",
    "request = template.format(path=path, host=host)\n",
    "print(request.encode())"
   ]
  },
  {
   "cell_type": "markdown",
   "metadata": {},
   "source": [
    "Request message를 보낸다.\n",
    "\n",
    "Server가 회신하는 response message를 반복하여 ```recv```한다. \n",
    "받을 message의 끝은 server가 connection을 close한 mark, 즉, empty string(```b''```)을 recv하는 것으로 확인할 수 있다."
   ]
  },
  {
   "cell_type": "code",
   "execution_count": 9,
   "metadata": {},
   "outputs": [
    {
     "name": "stdout",
     "output_type": "stream",
     "text": [
      "b'HTTP/1.1 200 OK\\r\\nDate: Fri, 10 May 2019 05:23:49 GMT\\r\\nServer: Apache/2.2.22 (Ubuntu)\\r\\nLast-Modified: Tue, 16 Oct 2018 06:13:58 GMT\\r\\nETag: \"1e982f-51e-578527589c88c\"\\r\\nAccept-Ranges: bytes\\r\\nContent-Length: 1310\\r\\nVary: Accept-Encoding\\r\\nConnection: close\\r\\nContent-Type: text/html\\r\\n\\r\\n<html>\\n<head>\\n<title>Test Page</title>\\n<meta http-equiv=\"content-type\" content=\"text/html; charset=UTF-8\">\\n</head>\\n\\n<body>\\n<h1>Information and Communications Engineering</h1>\\n<p><img src=\"http://ice.hufs.ac.kr/hufs-image01.jpg\" border=\"0\"></p>\\n<p>Welcome to Dept. of Information and Communications Engineering</p>\\n<p></p>\\n<p>\\xed\\x95\\x9c\\xea\\xb5\\xad\\xec\\x99\\xb8\\xea\\xb5\\xad\\xec\\x96\\xb4\\xeb\\x8c\\x80\\xed\\x95\\x99\\xea\\xb5\\x90 \\xec\\xa0\\x95\\xeb\\xb3\\xb4\\xed\\x86\\xb5\\xec\\x8b\\xa0\\xea\\xb3\\xb5\\xed\\x95\\x99\\xea\\xb3\\xbc</p>\\n\\n<h2>Blue Sky</h2>\\n<h3>SKY 2</h3>\\n<p><img src=\"s3test2.gif\" border=\"0\"></p>\\n\\n<h3>SKY 3</h3>\\n<p><img src=\"s3test3.jpg\" border=\"0\"></p>\\n<h3>SKY 4</h3>\\n<p><img src=\"s3test4.jpg\"  height=\"100\" width=\"100\" border=\"0\"></p>\\n<h3>SKY 5</h3>\\n<p><img src=\"s3test5.jpg\" height=\"100\" width=\"100\"></p>\\n\\n<h3>TCP/IP Protocol Suits</h3>\\n<p><img src=\"tcp_ip.png\" height=\"300\" width=\"500\"></p>\\n<h3>HTTP Protocol</h3>\\n<p>HTTP Request/Response Messages</p>\\n<p><img src=\"HTTP_RequestResponseMessages.png\"></p>\\n<h3>Web Server Architecture</h3>\\n<p>Single Threaded Web Server</p>\\n<p><img src=\"single_threaded_web_server.gif\" height=\"400\" width=\"500\"></p>\\n<p>Thread Pool Web Server</p>\\n<p><img src=\"thread_pool_web_server.gif\" height=\"400\" width=\"500\"></p>\\n<h3>REST Service and JSON</h3>\\n<p>Ajax application model architecture</p>\\n<p><img src=\"ajax_model.jpg\"></p>\\n<p>Receiving an HTTP response from a REST service</p>\\n<p><img src=\"rest_json.jpg\"></p>\\n</html>\\n'\n"
     ]
    }
   ],
   "source": [
    "sock = socket.socket(socket.AF_INET, socket.SOCK_STREAM)\n",
    "sock.connect((host, port))\n",
    "sock.send(request.encode('utf-8'))\n",
    "\n",
    "chunks = []\n",
    "while True:\n",
    "    chunk = sock.recv(4096)\n",
    "    if chunk == b'': break       # server closes\n",
    "    chunks.append(chunk)\n",
    "sock.close()\n",
    "\n",
    "response = b''.join(chunks)\n",
    "print(response)"
   ]
  },
  {
   "cell_type": "markdown",
   "metadata": {},
   "source": [
    "> Internet에서 줄바꿈 표준은 `b'\\r\\n'`이다. 하지만, 많은 web server들은 `b'\\n'`만 있어도 OK.\n",
    ">\n",
    "> response message에는 \n",
    "> - status line: `HTTP/1.1 200 OK` (200은 request가 성공적으로 처리됐다는 뜻)\n",
    "> - header lines\n",
    "> `b'\\r\\n\\r\\n'` - blank line (한줄 띄기)\n",
    "> 이어서 실제 download된 web contents가 있다.\n",
    "\n",
    "Contents를 가져오려면, `b'\\r\\n\\r\\n'` 다음 byte부터 끝까지 분리하면 된다."
   ]
  },
  {
   "cell_type": "code",
   "execution_count": 10,
   "metadata": {},
   "outputs": [
    {
     "name": "stdout",
     "output_type": "stream",
     "text": [
      "<html>\n",
      "<head>\n",
      "<title>Test Page</title>\n",
      "<meta http-equiv=\"content-type\" content=\"text/html; charset=UTF-8\">\n",
      "</head>\n",
      "\n",
      "<body>\n",
      "<h1>Information and Communications Engineering</h1>\n",
      "<p><img src=\"http://ice.hufs.ac.kr/hufs-image01.jpg\" border=\"0\"></p>\n",
      "<p>Welcome to Dept. of Information and Communications Engineering</p>\n",
      "<p></p>\n",
      "<p>한국외국어대학교 정보통신공학과</p>\n",
      "\n",
      "<h2>Blue Sky</h2>\n",
      "<h3>SKY 2</h3>\n",
      "<p><img src=\"s3test2.gif\" border=\"0\"></p>\n",
      "\n",
      "<h3>SKY 3</h3>\n",
      "<p><img src=\"s3test3.jpg\" border=\"0\"></p>\n",
      "<h3>SKY 4</h3>\n",
      "<p><img src=\"s3test4.jpg\"  height=\"100\" width=\"100\" border=\"0\"></p>\n",
      "<h3>SKY 5</h3>\n",
      "<p><img src=\"s3test5.jpg\" height=\"100\" width=\"100\"></p>\n",
      "\n",
      "<h3>TCP/IP Protocol Suits</h3>\n",
      "<p><img src=\"tcp_ip.png\" height=\"300\" width=\"500\"></p>\n",
      "<h3>HTTP Protocol</h3>\n",
      "<p>HTTP Request/Response Messages</p>\n",
      "<p><img src=\"HTTP_RequestResponseMessages.png\"></p>\n",
      "<h3>Web Server Architecture</h3>\n",
      "<p>Single Threaded Web Server</p>\n",
      "<p><img src=\"single_threaded_web_server.gif\" height=\"400\" width=\"500\"></p>\n",
      "<p>Thread Pool Web Server</p>\n",
      "<p><img src=\"thread_pool_web_server.gif\" height=\"400\" width=\"500\"></p>\n",
      "<h3>REST Service and JSON</h3>\n",
      "<p>Ajax application model architecture</p>\n",
      "<p><img src=\"ajax_model.jpg\"></p>\n",
      "<p>Receiving an HTTP response from a REST service</p>\n",
      "<p><img src=\"rest_json.jpg\"></p>\n",
      "</html>\n",
      "\n"
     ]
    }
   ],
   "source": [
    "eoh = response.find(b'\\r\\n\\r\\n')\n",
    "headers, contents = response[:eoh], response[eoh+4:]\n",
    "print(contents.decode())"
   ]
  },
  {
   "cell_type": "markdown",
   "metadata": {},
   "source": [
    "### Rewrite above code just like file stream\n",
    "Response message에서 contents를 분리하거나, header들을 뽑아 내려면, ```readline()```과 같은 file stream 처럼 쓸 수 있으면 편할 것이다. ```makefile()``` method는 socket object을 file object 처럼 변환해 준다. 내부적으로 buffering하고 file 처럼 method를 사용할 수 있게 된다."
   ]
  },
  {
   "cell_type": "code",
   "execution_count": 11,
   "metadata": {
    "scrolled": false
   },
   "outputs": [
    {
     "name": "stdout",
     "output_type": "stream",
     "text": [
      "b'GET /test/index.html HTTP/1.1\\r\\nHost: mclab.hufs.ac.kr\\r\\nConnection: close\\r\\n\\r\\n'\n",
      "200\n",
      "{'Date': 'Fri, 10 May 2019 05:23:49 GMT', 'Server': 'Apache/2.2.22 (Ubuntu)', 'Last-Modified': 'Tue, 16 Oct 2018 06:13:58 GMT', 'ETag': '\"1e982f-51e-578527589c88c\"', 'Accept-Ranges': 'bytes', 'Content-Length': '1310', 'Vary': 'Accept-Encoding', 'Connection': 'close', 'Content-Type': 'text/html'}\n",
      "<html>\n",
      "<head>\n",
      "<title>Test Page</title>\n",
      "<meta http-equiv=\"content-type\" content=\"text/html; charset=UTF-8\">\n",
      "</head>\n",
      "\n",
      "<body>\n",
      "<h1>Information and Communications Engineering</h1>\n",
      "<p><img src=\"http://ice.hufs.ac.kr/hufs-image01.jpg\" border=\"0\"></p>\n",
      "<p>Welcome to Dept. of Information and Communications Engineering</p>\n",
      "<p></p>\n",
      "<p>한국외국어대학교 정보통신공학과</p>\n",
      "\n",
      "<h2>Blue Sky</h2>\n",
      "<h3>SKY 2</h3>\n",
      "<p><img src=\"s3test2.gif\" border=\"0\"></p>\n",
      "\n",
      "<h3>SKY 3</h3>\n",
      "<p><img src=\"s3test3.jpg\" border=\"0\"></p>\n",
      "<h3>SKY 4</h3>\n",
      "<p><img src=\"s3test4.jpg\"  height=\"100\" width=\"100\" border=\"0\"></p>\n",
      "<h3>SKY 5</h3>\n",
      "<p><img src=\"s3test5.jpg\" height=\"100\" width=\"100\"></p>\n",
      "\n",
      "<h3>TCP/IP Protocol Suits</h3>\n",
      "<p><img src=\"tcp_ip.png\" height=\"300\" width=\"500\"></p>\n",
      "<h3>HTTP Protocol</h3>\n",
      "<p>HTTP Request/Response Messages</p>\n",
      "<p><img src=\"HTTP_RequestResponseMessages.png\"></p>\n",
      "<h3>Web Server Architecture</h3>\n",
      "<p>Single Threaded Web Server</p>\n",
      "<p><img src=\"single_threaded_web_server.gif\" height=\"400\" width=\"500\"></p>\n",
      "<p>Thread Pool Web Server</p>\n",
      "<p><img src=\"thread_pool_web_server.gif\" height=\"400\" width=\"500\"></p>\n",
      "<h3>REST Service and JSON</h3>\n",
      "<p>Ajax application model architecture</p>\n",
      "<p><img src=\"ajax_model.jpg\"></p>\n",
      "<p>Receiving an HTTP response from a REST service</p>\n",
      "<p><img src=\"rest_json.jpg\"></p>\n",
      "</html>\n",
      "\n"
     ]
    }
   ],
   "source": [
    "sock = socket.socket(socket.AF_INET, socket.SOCK_STREAM)\n",
    "sock.connect((host, port))\n",
    "infile = sock.makefile('rb')    # convert incoming socket to file-like object\n",
    "\n",
    "sock.sendall(request.encode())\n",
    "print(request.encode())\n",
    "\n",
    "# status line\n",
    "status = infile.readline().decode().split()[1]\n",
    "print(status)\n",
    "\n",
    "# extract headers, respresening as a dict\n",
    "def parse_headers(file):\n",
    "    headers = {}\n",
    "    for line in file:\n",
    "        if line == b'\\r\\n':    # end of headers\n",
    "            break\n",
    "        header = line.decode().strip()    # remove leading and trailing white spaces\n",
    "        key, value = header.split(':', maxsplit=1)\n",
    "        headers[key] = value.strip()\n",
    "    return headers\n",
    "\n",
    "headers = parse_headers(infile)\n",
    "print(headers)\n",
    "\n",
    "# Now, we are on the contents\n",
    "# Read until server close.\n",
    "# contents = infile.read()\n",
    "\n",
    "# Or, read 'Content-Length' bytes.\n",
    "contents = infile.read(int(headers['Content-Length']))\n",
    "print(contents.decode())\n",
    "sock.close()"
   ]
  }
 ],
 "metadata": {
  "kernelspec": {
   "display_name": "Python 3",
   "language": "python",
   "name": "python3"
  },
  "language_info": {
   "codemirror_mode": {
    "name": "ipython",
    "version": 3
   },
   "file_extension": ".py",
   "mimetype": "text/x-python",
   "name": "python",
   "nbconvert_exporter": "python",
   "pygments_lexer": "ipython3",
   "version": "3.6.4"
  }
 },
 "nbformat": 4,
 "nbformat_minor": 2
}
